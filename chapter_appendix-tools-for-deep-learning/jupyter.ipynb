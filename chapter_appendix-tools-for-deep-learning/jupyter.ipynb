{
  "cells": [
    {
      "cell_type": "markdown",
      "id": "31d9a4c9",
      "metadata": {
        "origin_pos": 0,
        "id": "31d9a4c9"
      },
      "source": [
        "# Using Jupyter Notebooks\n",
        ":label:`sec_jupyter`\n",
        "\n",
        "\n",
        "This section describes how to edit and run the code\n",
        "in each section of this book\n",
        "using the Jupyter Notebook. Make sure you have\n",
        "installed Jupyter and downloaded the\n",
        "code as described in\n",
        ":ref:`chap_installation`.\n",
        "If you want to know more about Jupyter see the excellent tutorial in\n",
        "their [documentation](https://jupyter.readthedocs.io/en/latest/).\n",
        "\n",
        "\n",
        "## Editing and Running the Code Locally\n",
        "\n",
        "Suppose that the local path of the book's code is `xx/yy/d2l-en/`. Use the shell to change the directory to this path (`cd xx/yy/d2l-en`) and run the command `jupyter notebook`. If your browser does not do this automatically, open http://localhost:8888 and you will see the interface of Jupyter and all the folders containing the code of the book, as shown in :numref:`fig_jupyter00`.\n",
        "\n",
        "![The folders containing the code of this book.](https://github.com/d2l-ai/d2l-en-colab/blob/master/img/jupyter00.png?raw=1)\n",
        ":width:`600px`\n",
        ":label:`fig_jupyter00`\n",
        "\n",
        "\n",
        "You can access the notebook files by clicking on the folder displayed on the webpage.\n",
        "They usually have the suffix \".ipynb\".\n",
        "For the sake of brevity, we create a temporary \"test.ipynb\" file.\n",
        "The content displayed after you click it is\n",
        "shown in :numref:`fig_jupyter01`.\n",
        "This notebook includes a markdown cell and a code cell. The content in the markdown cell includes \"This Is a Title\" and \"This is text.\".\n",
        "The code cell contains two lines of Python code.\n",
        "\n",
        "![Markdown and code cells in the \"text.ipynb\" file.](https://github.com/d2l-ai/d2l-en-colab/blob/master/img/jupyter01.png?raw=1)\n",
        ":width:`600px`\n",
        ":label:`fig_jupyter01`\n",
        "\n",
        "\n",
        "Double click on the markdown cell to enter edit mode.\n",
        "Add a new text string \"Hello world.\" at the end of the cell, as shown in :numref:`fig_jupyter02`.\n",
        "\n",
        "![Edit the markdown cell.](https://github.com/d2l-ai/d2l-en-colab/blob/master/img/jupyter02.png?raw=1)\n",
        ":width:`600px`\n",
        ":label:`fig_jupyter02`\n",
        "\n",
        "\n",
        "As demonstrated in :numref:`fig_jupyter03`,\n",
        "click \"Cell\" $\\rightarrow$ \"Run Cells\" in the menu bar to run the edited cell.\n",
        "\n",
        "![Run the cell.](https://github.com/d2l-ai/d2l-en-colab/blob/master/img/jupyter03.png?raw=1)\n",
        ":width:`600px`\n",
        ":label:`fig_jupyter03`\n",
        "\n",
        "After running, the markdown cell is shown in :numref:`fig_jupyter04`.\n",
        "\n",
        "![The markdown cell after running.](https://github.com/d2l-ai/d2l-en-colab/blob/master/img/jupyter04.png?raw=1)\n",
        ":width:`600px`\n",
        ":label:`fig_jupyter04`\n",
        "\n",
        "\n",
        "Next, click on the code cell. Multiply the elements by 2 after the last line of code, as shown in :numref:`fig_jupyter05`.\n",
        "\n",
        "![Edit the code cell.](https://github.com/d2l-ai/d2l-en-colab/blob/master/img/jupyter05.png?raw=1)\n",
        ":width:`600px`\n",
        ":label:`fig_jupyter05`\n",
        "\n",
        "\n",
        "You can also run the cell with a shortcut (\"Ctrl + Enter\" by default) and obtain the output result from :numref:`fig_jupyter06`.\n",
        "\n",
        "![Run the code cell to obtain the output.](https://github.com/d2l-ai/d2l-en-colab/blob/master/img/jupyter06.png?raw=1)\n",
        ":width:`600px`\n",
        ":label:`fig_jupyter06`\n",
        "\n",
        "\n",
        "When a notebook contains more cells, we can click \"Kernel\" $\\rightarrow$ \"Restart & Run All\" in the menu bar to run all the cells in the entire notebook. By clicking \"Help\" $\\rightarrow$ \"Edit Keyboard Shortcuts\" in the menu bar, you can edit the shortcuts according to your preferences.\n",
        "\n",
        "## Advanced Options\n",
        "\n",
        "Beyond local editing two things are quite important: editing the notebooks in the markdown format and running Jupyter remotely.\n",
        "The latter matters when we want to run the code on a faster server.\n",
        "The former matters since Jupyter's native ipynb format stores a lot of auxiliary data that is\n",
        "irrelevant to the content,\n",
        "mostly related to how and where the code is run.\n",
        "This is confusing for Git, making\n",
        "reviewing contributions very difficult.\n",
        "Fortunately there is an alternative---native editing in the markdown format.\n",
        "\n",
        "### Markdown Files in Jupyter\n",
        "\n",
        "If you wish to contribute to the content of this book, you need to modify the\n",
        "source file (md file, not ipynb file) on GitHub.\n",
        "Using the notedown plugin we\n",
        "can modify notebooks in the md format directly in Jupyter.\n",
        "\n",
        "\n",
        "First, install the notedown plugin, run the Jupyter Notebook, and load the plugin:\n",
        "\n",
        "```\n",
        "pip install d2l-notedown  # You may need to uninstall the original notedown.\n",
        "jupyter notebook --NotebookApp.contents_manager_class='notedown.NotedownContentsManager'\n",
        "```\n",
        "\n",
        "You may also turn on the notedown plugin by default whenever you run the Jupyter Notebook.\n",
        "First, generate a Jupyter Notebook configuration file (if it has already been generated, you can skip this step).\n",
        "\n",
        "```\n",
        "jupyter notebook --generate-config\n",
        "```\n",
        "\n",
        "Then, add the following line to the end of the Jupyter Notebook configuration file (for Linux or macOS, usually in the path `~/.jupyter/jupyter_notebook_config.py`):\n",
        "\n",
        "```\n",
        "c.NotebookApp.contents_manager_class = 'notedown.NotedownContentsManager'\n",
        "```\n",
        "\n",
        "After that, you only need to run the `jupyter notebook` command to turn on the notedown plugin by default.\n",
        "\n",
        "### Running Jupyter Notebooks on a Remote Server\n",
        "\n",
        "Sometimes, you may want to run Jupyter notebooks on a remote server and access it through a browser on your local computer. If Linux or macOS is installed on your local machine (Windows can also support this function through third-party software such as PuTTY), you can use port forwarding:\n",
        "\n",
        "```\n",
        "ssh myserver -L 8888:localhost:8888\n",
        "```\n",
        "\n",
        "The above string `myserver` is the address of the remote server.\n",
        "Then we can use http://localhost:8888 to access the remote server `myserver` that runs Jupyter notebooks. We will detail on how to run Jupyter notebooks on AWS instances\n",
        "later in this appendix.\n",
        "\n",
        "### Timing\n",
        "\n",
        "We can use the `ExecuteTime` plugin to time the execution of each code cell in Jupyter notebooks.\n",
        "Use the following commands to install the plugin:\n",
        "\n",
        "```\n",
        "pip install jupyter_contrib_nbextensions\n",
        "jupyter contrib nbextension install --user\n",
        "jupyter nbextension enable execute_time/ExecuteTime\n",
        "```\n",
        "\n",
        "## Summary\n",
        "\n",
        "* Using the Jupyter Notebook tool, we can edit, run, and contribute to each section of the book.\n",
        "* We can run Jupyter notebooks on remote servers using port forwarding.\n",
        "\n",
        "\n",
        "## Exercises\n",
        "\n",
        "1. Edit and run the code in this book with the Jupyter Notebook on your local machine.\n",
        "1. Edit and run the code in this book with the Jupyter Notebook *remotely* via port forwarding.\n",
        "1. Compare the running time of the operations $\\mathbf{A}^\\top \\mathbf{B}$ and $\\mathbf{A} \\mathbf{B}$ for two square matrices in $\\mathbb{R}^{1024 \\times 1024}$. Which one is faster?\n",
        "\n",
        "\n",
        "[Discussions](https://discuss.d2l.ai/t/421)\n"
      ]
    },
    {
      "cell_type": "code",
      "source": [
        "num=10\n",
        "assert num>0,\"Number should be positive\"\n",
        "print(\"number is positive\")"
      ],
      "metadata": {
        "colab": {
          "base_uri": "https://localhost:8080/"
        },
        "id": "iTvNauOkH0hg",
        "outputId": "ffa86118-efb2-42f5-c284-d75a3397fdb4"
      },
      "id": "iTvNauOkH0hg",
      "execution_count": 4,
      "outputs": [
        {
          "output_type": "stream",
          "name": "stdout",
          "text": [
            "number is positive\n"
          ]
        }
      ]
    },
    {
      "cell_type": "code",
      "source": [
        "import logging\n",
        "logging.basicConfig(level=logging.DEBUG, format='%(asctime)s - %(levelname)s - %(message)s')\n",
        "logging.debug('Start of program')\n",
        "def factorial(n):\n",
        "  logging.debug('Start of factorial(%s%%)' % (n))\n",
        "  total = 1\n",
        "  for i in range(n + 1):\n",
        "  total *= i\n",
        "  logging.debug('i is ' + str(i) + ', total is ' + str(total))\n",
        "logging.debug('End of factorial(%s%%)' % (n))\n",
        "  return total\n",
        "print(factorial(5))\n",
        "logging.debug('End of program')"
      ],
      "metadata": {
        "colab": {
          "base_uri": "https://localhost:8080/",
          "height": 106
        },
        "id": "sJ9DnjTBH9h5",
        "outputId": "eaa78cd1-34b2-47ef-d5cd-2e52a7ba207e"
      },
      "id": "sJ9DnjTBH9h5",
      "execution_count": 8,
      "outputs": [
        {
          "output_type": "error",
          "ename": "IndentationError",
          "evalue": "unexpected indent (ipython-input-8-1397128667.py, line 11)",
          "traceback": [
            "\u001b[0;36m  File \u001b[0;32m\"/tmp/ipython-input-8-1397128667.py\"\u001b[0;36m, line \u001b[0;32m11\u001b[0m\n\u001b[0;31m    return total\u001b[0m\n\u001b[0m    ^\u001b[0m\n\u001b[0;31mIndentationError\u001b[0m\u001b[0;31m:\u001b[0m unexpected indent\n"
          ]
        }
      ]
    },
    {
      "cell_type": "code",
      "source": [
        "import logging\n",
        "\n",
        "# Setup logging\n",
        "logging.basicConfig(level=logging.DEBUG, format='%(asctime)s - %(levelname)s - %(message)s')\n",
        "\n",
        "logging.debug('Start of program')\n",
        "\n",
        "def factorial(n):\n",
        "    logging.debug('Start of factorial(%s)' % n)\n",
        "    total = 1\n",
        "    for i in range(1, n + 1):\n",
        "        total *= i\n",
        "        logging.debug('i is ' + str(i) + ', total is ' + str(total))\n",
        "    logging.debug('End of factorial(%s)' % n)\n",
        "    return total\n",
        "\n",
        "# Call the function and print result\n",
        "print(factorial(5))\n",
        "\n",
        "logging.debug('End of program')\n"
      ],
      "metadata": {
        "colab": {
          "base_uri": "https://localhost:8080/"
        },
        "id": "9N7VG_2QN6le",
        "outputId": "b46a1a98-bdfe-487e-bc35-e811bff5e7e7"
      },
      "id": "9N7VG_2QN6le",
      "execution_count": 15,
      "outputs": [
        {
          "output_type": "stream",
          "name": "stdout",
          "text": [
            "120\n"
          ]
        }
      ]
    },
    {
      "cell_type": "code",
      "source": [
        "import logging\n",
        "logging.basicConfig(level=logging.DEBUG, format='%(asctime)s - %(levelname)s - %(message)s')\n",
        "logging.debug('Start of program')\n",
        "def factorial(n):\n",
        "  logging.debug('Start of factorial(%s)' % (n))\n",
        "  total = 1\n",
        "  for i in range(1,n + 1):\n",
        "    total *= i\n",
        "  logging.debug('i is ' + str(i) + ', total is ' + str(total))\n",
        "  logging.debug('End of factorial(%s)' % (n))\n",
        "  return total\n",
        "print(factorial(5))\n",
        "logging.debug('End of program')"
      ],
      "metadata": {
        "colab": {
          "base_uri": "https://localhost:8080/"
        },
        "id": "v79KuTHpMYDi",
        "outputId": "08d3d40f-7e23-475a-e5b6-a817864efc4c"
      },
      "id": "v79KuTHpMYDi",
      "execution_count": 14,
      "outputs": [
        {
          "output_type": "stream",
          "name": "stdout",
          "text": [
            "120\n"
          ]
        }
      ]
    },
    {
      "cell_type": "code",
      "source": [
        "def Armstrong(num):\n",
        "    text = str(num)\n",
        "    length = len(text)\n",
        "    total = 0\n",
        "\n",
        "    for digit in text:\n",
        "        d = int(digit)\n",
        "        power = d ** length\n",
        "        total = total + power\n",
        "\n",
        "    if num == total:\n",
        "        print(\"It is an Armstrong number\")\n",
        "    else:\n",
        "        print(\"It is not an Armstrong number\")\n",
        "\n",
        "num = int(input(\"Enter number: \"))\n",
        "Armstrong(num)\n"
      ],
      "metadata": {
        "colab": {
          "base_uri": "https://localhost:8080/"
        },
        "id": "DCg8NSfXNDa4",
        "outputId": "5d8069a9-7c09-46eb-d144-5623d65c94f2"
      },
      "id": "DCg8NSfXNDa4",
      "execution_count": 1,
      "outputs": [
        {
          "output_type": "stream",
          "name": "stdout",
          "text": [
            "Enter number: 371\n",
            "It is an Armstrong number\n"
          ]
        }
      ]
    },
    {
      "cell_type": "code",
      "source": [
        "A=int(input('Enter Input Number:'))\n",
        "if A%2==0:\n",
        "  print(\"number is even\")\n",
        "else:\n",
        "  print(\"number is odd\")"
      ],
      "metadata": {
        "colab": {
          "base_uri": "https://localhost:8080/"
        },
        "id": "Orv9-uEFL6mI",
        "outputId": "afc4326e-d656-4a22-e745-49626ac12b5f"
      },
      "id": "Orv9-uEFL6mI",
      "execution_count": 2,
      "outputs": [
        {
          "output_type": "stream",
          "name": "stdout",
          "text": [
            "Enter Input Number:10\n",
            "number is even\n"
          ]
        }
      ]
    },
    {
      "cell_type": "code",
      "source": [
        "n=int(input(\"enter an even number:\"))\n",
        "for i in range(0,n+2,2):\n",
        "  print(i)"
      ],
      "metadata": {
        "colab": {
          "base_uri": "https://localhost:8080/"
        },
        "id": "8gMpBnOI9yum",
        "outputId": "37ac4d87-49a0-4107-94f3-eb50bb6f47c0"
      },
      "id": "8gMpBnOI9yum",
      "execution_count": 6,
      "outputs": [
        {
          "output_type": "stream",
          "name": "stdout",
          "text": [
            "enter an even number:80\n",
            "0\n",
            "2\n",
            "4\n",
            "6\n",
            "8\n",
            "10\n",
            "12\n",
            "14\n",
            "16\n",
            "18\n",
            "20\n",
            "22\n",
            "24\n",
            "26\n",
            "28\n",
            "30\n",
            "32\n",
            "34\n",
            "36\n",
            "38\n",
            "40\n",
            "42\n",
            "44\n",
            "46\n",
            "48\n",
            "50\n",
            "52\n",
            "54\n",
            "56\n",
            "58\n",
            "60\n",
            "62\n",
            "64\n",
            "66\n",
            "68\n",
            "70\n",
            "72\n",
            "74\n",
            "76\n",
            "78\n",
            "80\n"
          ]
        }
      ]
    },
    {
      "cell_type": "code",
      "source": [
        "a=0\n",
        "b=1\n",
        "n=int(input(\"enter a num:\"))\n",
        "if n<=0:\n",
        "  print(\"enter a positive number\")\n",
        "else:\n",
        "  i=0\n",
        "  print(\"Fibonacci sequence for n=\"+str(n)+\"is:\")\n",
        "  while i<n:\n",
        "    print(a)\n",
        "    c=a+b\n",
        "    a=b\n",
        "    b=c\n",
        "    i+=1"
      ],
      "metadata": {
        "colab": {
          "base_uri": "https://localhost:8080/"
        },
        "id": "MYOeEhX4-Trj",
        "outputId": "9f31727e-68db-4b6b-f2c8-6f324c0fd7ce"
      },
      "id": "MYOeEhX4-Trj",
      "execution_count": 10,
      "outputs": [
        {
          "output_type": "stream",
          "name": "stdout",
          "text": [
            "enter a num:5\n",
            "Fibonacci sequence for n=5is:\n",
            "0\n",
            "1\n",
            "1\n",
            "2\n",
            "3\n"
          ]
        }
      ]
    },
    {
      "cell_type": "code",
      "source": [
        "def Fact(n):\n",
        "  if n<0:\n",
        "    print(\"Enter a positive number\")\n",
        "  elif n==1 or n==0:\n",
        "    print(\"the factorial of \"+str(n)+\" is 1\")\n",
        "    fact==1\n",
        "    return fact\n",
        "  else:\n",
        "   i=1\n",
        "   fact=1\n",
        "   while i<=n:\n",
        "    fact*=i\n",
        "    i+=1\n",
        "  return fact\n",
        "n=int(input(\"Entwe N:\"))\n",
        "r=int(input(\"Enter R:\"))\n",
        "N=Fact(n)\n",
        "R=Fact(r)\n",
        "NR=Fact(n-r)\n",
        "B=N/(R*NR)\n",
        "print(B)"
      ],
      "metadata": {
        "colab": {
          "base_uri": "https://localhost:8080/"
        },
        "id": "ySh4Ch8PAzHL",
        "outputId": "d1d31c8d-69f1-499d-ea57-4e5f8a6acb6f"
      },
      "id": "ySh4Ch8PAzHL",
      "execution_count": 14,
      "outputs": [
        {
          "output_type": "stream",
          "name": "stdout",
          "text": [
            "Entwe N:5\n",
            "Enter R:2\n",
            "10.0\n"
          ]
        }
      ]
    },
    {
      "cell_type": "code",
      "source": [
        "dict={'apple':1,'banana':2,'cherry':3}\n",
        "print(\"Keys are:\")\n",
        "for key in dict:\n",
        "  print(key)"
      ],
      "metadata": {
        "colab": {
          "base_uri": "https://localhost:8080/"
        },
        "id": "cK8MY8qPEdvm",
        "outputId": "440ce1b3-5ea5-456a-8f8f-491bed5bed46"
      },
      "id": "cK8MY8qPEdvm",
      "execution_count": 19,
      "outputs": [
        {
          "output_type": "stream",
          "name": "stdout",
          "text": [
            "Keys are:\n",
            "apple\n",
            "banana\n",
            "cherry\n"
          ]
        }
      ]
    },
    {
      "cell_type": "code",
      "source": [
        "n=int(input(\"Enter number of digits:\"))\n",
        "total=0\n",
        "for i in range (n):\n",
        "  a=int(input(\"Enter a number:\"))\n",
        "  total+=a\n",
        "mean=total/n\n",
        "print(\"mean=\",mean)"
      ],
      "metadata": {
        "colab": {
          "base_uri": "https://localhost:8080/"
        },
        "id": "fyhbVaUTFcFT",
        "outputId": "e1bca996-70d9-4760-f49d-fa2df3c30acf"
      },
      "id": "fyhbVaUTFcFT",
      "execution_count": 28,
      "outputs": [
        {
          "output_type": "stream",
          "name": "stdout",
          "text": [
            "Enter number of digits:3\n",
            "Enter a number:2\n",
            "Enter a number:4\n",
            "Enter a number:6\n",
            "mean= 4.0\n"
          ]
        }
      ]
    },
    {
      "cell_type": "code",
      "source": [
        "dict={}\n",
        "count=0\n",
        "while count<3:\n",
        "  key=input(\"Key \")\n",
        "  value=input(\"value \")\n",
        "  dict[key]=value\n",
        "  count+=1\n",
        "print('Entire dict',dict)"
      ],
      "metadata": {
        "colab": {
          "base_uri": "https://localhost:8080/"
        },
        "id": "fTrjfekrGICe",
        "outputId": "d81bcbc0-339d-4e94-f70c-f23eefb26734"
      },
      "id": "fTrjfekrGICe",
      "execution_count": 33,
      "outputs": [
        {
          "output_type": "stream",
          "name": "stdout",
          "text": [
            "Key a\n",
            "value s\n",
            "Key a\n",
            "value as\n",
            "Key as\n",
            "value sasa\n",
            "Entire dict {'a': 'as', 'as': 'sasa'}\n"
          ]
        }
      ]
    },
    {
      "cell_type": "code",
      "source": [
        "list=[]\n",
        "n=int(input(\"Enter number of elements:\"))\n",
        "for i in range (n-1):\n",
        "  a=int(input(\"Enter a number:\"))\n",
        "  list.append(a)\n",
        "exp=n*(n+1)//2\n",
        "actual=sum(list)\n",
        "miss=exp-actual\n",
        "print(miss,\" is missing\")"
      ],
      "metadata": {
        "colab": {
          "base_uri": "https://localhost:8080/"
        },
        "id": "uLqajRPwTPwf",
        "outputId": "2c175c7e-7346-4e0f-b1f7-2ef82cb23326"
      },
      "id": "uLqajRPwTPwf",
      "execution_count": 38,
      "outputs": [
        {
          "output_type": "stream",
          "name": "stdout",
          "text": [
            "Enter number of elements:6\n",
            "Enter a number:1\n",
            "Enter a number:2\n",
            "Enter a number:4\n",
            "Enter a number:5\n",
            "Enter a number:6\n",
            "3  is missing\n"
          ]
        }
      ]
    },
    {
      "cell_type": "code",
      "source": [],
      "metadata": {
        "id": "mU2SAZwydlUg"
      },
      "id": "mU2SAZwydlUg",
      "execution_count": null,
      "outputs": []
    },
    {
      "cell_type": "code",
      "source": [
        "name=input(\"Name:\")\n",
        "usn=input(\"usn:\")\n",
        "m1=int(input(\"Marks 1:\"))\n",
        "m2=int(input(\"Marks 2:\"))\n",
        "m3=int(input(\"Marks 3:\"))\n",
        "total=m1+m2+m3\n",
        "per=100*(total/300)\n",
        "print('Name:',name)\n",
        "print('Usn:',usn)\n",
        "print('Marks 1:',m1)\n",
        "print('Marks 2:',m2)\n",
        "print('Marks 3:',m3)\n",
        "print('Total:',total)\n",
        "if per>=90:\n",
        "  print('1st class exemplery')\n",
        "elif per>=75 and per<90:\n",
        "  print('1st class distinction')\n",
        "elif per>=60 and per<75:\n",
        "  print('1st class')\n",
        "elif per>=35 and per<60:\n",
        "  print('2nd class')\n",
        "else:\n",
        "  print('fail')"
      ],
      "metadata": {
        "id": "7SPNC2MWXB2e",
        "outputId": "7fef0b3a-a9ef-476a-bf65-80ff242a4202",
        "colab": {
          "base_uri": "https://localhost:8080/"
        }
      },
      "id": "7SPNC2MWXB2e",
      "execution_count": 45,
      "outputs": [
        {
          "output_type": "stream",
          "name": "stdout",
          "text": [
            "Name:k\n",
            "usn:kk\n",
            "Marks 1:1\n",
            "Marks 2:0\n",
            "Marks 3:1\n",
            "Name: k\n",
            "Usn: kk\n",
            "Marks 1: 1\n",
            "Marks 2: 0\n",
            "Marks 3: 1\n",
            "Total: 2\n",
            "fail\n"
          ]
        }
      ]
    },
    {
      "cell_type": "code",
      "source": [
        "n=int(input('entwer the no of elements:'))\n",
        "list=[]\n",
        "for i in range(n):\n",
        "  list.append(int(input(\"enter the element:\")))\n",
        "mean=round(sum(list)/n,2)\n",
        "print(mean)\n",
        "listmean=[]\n",
        "for i in range (n):\n",
        "  listmean.append((list[i]-mean)**2)\n",
        "var=round(sum(listmean)/(n-1) ,2)\n",
        "print('variance:',var)\n",
        "dev=round(var**0.5,2)\n",
        "print(\"standard dev:\",dev)"
      ],
      "metadata": {
        "id": "lfZNryxqfGf1",
        "outputId": "efbeb92f-4cb1-4b94-bad4-67aa2b2d5f0b",
        "colab": {
          "base_uri": "https://localhost:8080/"
        }
      },
      "id": "lfZNryxqfGf1",
      "execution_count": 52,
      "outputs": [
        {
          "output_type": "stream",
          "name": "stdout",
          "text": [
            "entwer the no of elements:8\n",
            "enter the element:10\n",
            "enter the element:23\n",
            "enter the element:12\n",
            "enter the element:23\n",
            "enter the element:16\n",
            "enter the element:23\n",
            "enter the element:21\n",
            "enter the element:16\n",
            "18.0\n",
            "variance: 27.43\n",
            "standard dev: 5.24\n"
          ]
        }
      ]
    },
    {
      "cell_type": "code",
      "source": [
        "import pprint\n",
        "message=input(\"enter your message:\")\n",
        "count={}\n",
        "for char in message:\n",
        "  count.setdefault(char,0)\n",
        "  count[char]+=1\n",
        "print('frequency of letters appeared in message :')\n",
        "pprint.pprint(count)\n",
        "print()\n",
        "for k,v in count.items():\n",
        "  print('the character '+str(k)+' appeared '+str(v)+' times')"
      ],
      "metadata": {
        "id": "a-u8SC-MidMF",
        "outputId": "a93fe6c9-1671-49ce-ab01-edb0501368e8",
        "colab": {
          "base_uri": "https://localhost:8080/"
        }
      },
      "id": "a-u8SC-MidMF",
      "execution_count": 55,
      "outputs": [
        {
          "output_type": "stream",
          "name": "stdout",
          "text": [
            "enter your message:hi hello how are you\n",
            "frequency of letters appeared in message :\n",
            "{' ': 4,\n",
            " 'a': 1,\n",
            " 'e': 2,\n",
            " 'h': 3,\n",
            " 'i': 1,\n",
            " 'l': 2,\n",
            " 'o': 3,\n",
            " 'r': 1,\n",
            " 'u': 1,\n",
            " 'w': 1,\n",
            " 'y': 1}\n",
            "\n",
            "the character h appeared 3 times\n",
            "the character i appeared 1 times\n",
            "the character   appeared 4 times\n",
            "the character e appeared 2 times\n",
            "the character l appeared 2 times\n",
            "the character o appeared 3 times\n",
            "the character w appeared 1 times\n",
            "the character a appeared 1 times\n",
            "the character r appeared 1 times\n",
            "the character y appeared 1 times\n",
            "the character u appeared 1 times\n"
          ]
        }
      ]
    },
    {
      "cell_type": "code",
      "source": [
        "import os,zipfile\n",
        "zf=zipfile.ZipFile(\"myfile.zip\",\"w\")\n",
        "for foldername,subfolder,files in os.walk(\"my directory\"):\n",
        "  for filename in files:\n",
        "    zf.write(os.path.join(foldername,filename))\n",
        "print('zipfile created')\n",
        "zf.close()"
      ],
      "metadata": {
        "id": "F-Vrk8Oilnf2",
        "outputId": "0697df7d-9332-407b-b7b3-66812c81d136",
        "colab": {
          "base_uri": "https://localhost:8080/"
        }
      },
      "id": "F-Vrk8Oilnf2",
      "execution_count": 56,
      "outputs": [
        {
          "output_type": "stream",
          "name": "stdout",
          "text": [
            "zipfile created\n"
          ]
        }
      ]
    },
    {
      "cell_type": "code",
      "source": [],
      "metadata": {
        "id": "hcp-JjJxoGya"
      },
      "id": "hcp-JjJxoGya",
      "execution_count": null,
      "outputs": []
    }
  ],
  "metadata": {
    "kernelspec": {
      "display_name": "Python 3",
      "name": "python3"
    },
    "language_info": {
      "name": "python"
    },
    "required_libs": [],
    "colab": {
      "provenance": []
    }
  },
  "nbformat": 4,
  "nbformat_minor": 5
}