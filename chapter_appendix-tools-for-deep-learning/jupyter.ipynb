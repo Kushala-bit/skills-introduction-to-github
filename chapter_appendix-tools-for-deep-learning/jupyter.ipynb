{
  "cells": [
    {
      "cell_type": "markdown",
      "id": "31d9a4c9",
      "metadata": {
        "origin_pos": 0,
        "id": "31d9a4c9"
      },
      "source": [
        "# Using Jupyter Notebooks\n",
        ":label:`sec_jupyter`\n",
        "\n",
        "\n",
        "This section describes how to edit and run the code\n",
        "in each section of this book\n",
        "using the Jupyter Notebook. Make sure you have\n",
        "installed Jupyter and downloaded the\n",
        "code as described in\n",
        ":ref:`chap_installation`.\n",
        "If you want to know more about Jupyter see the excellent tutorial in\n",
        "their [documentation](https://jupyter.readthedocs.io/en/latest/).\n",
        "\n",
        "\n",
        "## Editing and Running the Code Locally\n",
        "\n",
        "Suppose that the local path of the book's code is `xx/yy/d2l-en/`. Use the shell to change the directory to this path (`cd xx/yy/d2l-en`) and run the command `jupyter notebook`. If your browser does not do this automatically, open http://localhost:8888 and you will see the interface of Jupyter and all the folders containing the code of the book, as shown in :numref:`fig_jupyter00`.\n",
        "\n",
        "![The folders containing the code of this book.](https://github.com/d2l-ai/d2l-en-colab/blob/master/img/jupyter00.png?raw=1)\n",
        ":width:`600px`\n",
        ":label:`fig_jupyter00`\n",
        "\n",
        "\n",
        "You can access the notebook files by clicking on the folder displayed on the webpage.\n",
        "They usually have the suffix \".ipynb\".\n",
        "For the sake of brevity, we create a temporary \"test.ipynb\" file.\n",
        "The content displayed after you click it is\n",
        "shown in :numref:`fig_jupyter01`.\n",
        "This notebook includes a markdown cell and a code cell. The content in the markdown cell includes \"This Is a Title\" and \"This is text.\".\n",
        "The code cell contains two lines of Python code.\n",
        "\n",
        "![Markdown and code cells in the \"text.ipynb\" file.](https://github.com/d2l-ai/d2l-en-colab/blob/master/img/jupyter01.png?raw=1)\n",
        ":width:`600px`\n",
        ":label:`fig_jupyter01`\n",
        "\n",
        "\n",
        "Double click on the markdown cell to enter edit mode.\n",
        "Add a new text string \"Hello world.\" at the end of the cell, as shown in :numref:`fig_jupyter02`.\n",
        "\n",
        "![Edit the markdown cell.](https://github.com/d2l-ai/d2l-en-colab/blob/master/img/jupyter02.png?raw=1)\n",
        ":width:`600px`\n",
        ":label:`fig_jupyter02`\n",
        "\n",
        "\n",
        "As demonstrated in :numref:`fig_jupyter03`,\n",
        "click \"Cell\" $\\rightarrow$ \"Run Cells\" in the menu bar to run the edited cell.\n",
        "\n",
        "![Run the cell.](https://github.com/d2l-ai/d2l-en-colab/blob/master/img/jupyter03.png?raw=1)\n",
        ":width:`600px`\n",
        ":label:`fig_jupyter03`\n",
        "\n",
        "After running, the markdown cell is shown in :numref:`fig_jupyter04`.\n",
        "\n",
        "![The markdown cell after running.](https://github.com/d2l-ai/d2l-en-colab/blob/master/img/jupyter04.png?raw=1)\n",
        ":width:`600px`\n",
        ":label:`fig_jupyter04`\n",
        "\n",
        "\n",
        "Next, click on the code cell. Multiply the elements by 2 after the last line of code, as shown in :numref:`fig_jupyter05`.\n",
        "\n",
        "![Edit the code cell.](https://github.com/d2l-ai/d2l-en-colab/blob/master/img/jupyter05.png?raw=1)\n",
        ":width:`600px`\n",
        ":label:`fig_jupyter05`\n",
        "\n",
        "\n",
        "You can also run the cell with a shortcut (\"Ctrl + Enter\" by default) and obtain the output result from :numref:`fig_jupyter06`.\n",
        "\n",
        "![Run the code cell to obtain the output.](https://github.com/d2l-ai/d2l-en-colab/blob/master/img/jupyter06.png?raw=1)\n",
        ":width:`600px`\n",
        ":label:`fig_jupyter06`\n",
        "\n",
        "\n",
        "When a notebook contains more cells, we can click \"Kernel\" $\\rightarrow$ \"Restart & Run All\" in the menu bar to run all the cells in the entire notebook. By clicking \"Help\" $\\rightarrow$ \"Edit Keyboard Shortcuts\" in the menu bar, you can edit the shortcuts according to your preferences.\n",
        "\n",
        "## Advanced Options\n",
        "\n",
        "Beyond local editing two things are quite important: editing the notebooks in the markdown format and running Jupyter remotely.\n",
        "The latter matters when we want to run the code on a faster server.\n",
        "The former matters since Jupyter's native ipynb format stores a lot of auxiliary data that is\n",
        "irrelevant to the content,\n",
        "mostly related to how and where the code is run.\n",
        "This is confusing for Git, making\n",
        "reviewing contributions very difficult.\n",
        "Fortunately there is an alternative---native editing in the markdown format.\n",
        "\n",
        "### Markdown Files in Jupyter\n",
        "\n",
        "If you wish to contribute to the content of this book, you need to modify the\n",
        "source file (md file, not ipynb file) on GitHub.\n",
        "Using the notedown plugin we\n",
        "can modify notebooks in the md format directly in Jupyter.\n",
        "\n",
        "\n",
        "First, install the notedown plugin, run the Jupyter Notebook, and load the plugin:\n",
        "\n",
        "```\n",
        "pip install d2l-notedown  # You may need to uninstall the original notedown.\n",
        "jupyter notebook --NotebookApp.contents_manager_class='notedown.NotedownContentsManager'\n",
        "```\n",
        "\n",
        "You may also turn on the notedown plugin by default whenever you run the Jupyter Notebook.\n",
        "First, generate a Jupyter Notebook configuration file (if it has already been generated, you can skip this step).\n",
        "\n",
        "```\n",
        "jupyter notebook --generate-config\n",
        "```\n",
        "\n",
        "Then, add the following line to the end of the Jupyter Notebook configuration file (for Linux or macOS, usually in the path `~/.jupyter/jupyter_notebook_config.py`):\n",
        "\n",
        "```\n",
        "c.NotebookApp.contents_manager_class = 'notedown.NotedownContentsManager'\n",
        "```\n",
        "\n",
        "After that, you only need to run the `jupyter notebook` command to turn on the notedown plugin by default.\n",
        "\n",
        "### Running Jupyter Notebooks on a Remote Server\n",
        "\n",
        "Sometimes, you may want to run Jupyter notebooks on a remote server and access it through a browser on your local computer. If Linux or macOS is installed on your local machine (Windows can also support this function through third-party software such as PuTTY), you can use port forwarding:\n",
        "\n",
        "```\n",
        "ssh myserver -L 8888:localhost:8888\n",
        "```\n",
        "\n",
        "The above string `myserver` is the address of the remote server.\n",
        "Then we can use http://localhost:8888 to access the remote server `myserver` that runs Jupyter notebooks. We will detail on how to run Jupyter notebooks on AWS instances\n",
        "later in this appendix.\n",
        "\n",
        "### Timing\n",
        "\n",
        "We can use the `ExecuteTime` plugin to time the execution of each code cell in Jupyter notebooks.\n",
        "Use the following commands to install the plugin:\n",
        "\n",
        "```\n",
        "pip install jupyter_contrib_nbextensions\n",
        "jupyter contrib nbextension install --user\n",
        "jupyter nbextension enable execute_time/ExecuteTime\n",
        "```\n",
        "\n",
        "## Summary\n",
        "\n",
        "* Using the Jupyter Notebook tool, we can edit, run, and contribute to each section of the book.\n",
        "* We can run Jupyter notebooks on remote servers using port forwarding.\n",
        "\n",
        "\n",
        "## Exercises\n",
        "\n",
        "1. Edit and run the code in this book with the Jupyter Notebook on your local machine.\n",
        "1. Edit and run the code in this book with the Jupyter Notebook *remotely* via port forwarding.\n",
        "1. Compare the running time of the operations $\\mathbf{A}^\\top \\mathbf{B}$ and $\\mathbf{A} \\mathbf{B}$ for two square matrices in $\\mathbb{R}^{1024 \\times 1024}$. Which one is faster?\n",
        "\n",
        "\n",
        "[Discussions](https://discuss.d2l.ai/t/421)\n"
      ]
    },
    {
      "cell_type": "code",
      "source": [
        "from sympy import symbols\n",
        "from sympy.vector import *\n",
        "n=CoordSys3D('n')\n",
        "x,y,z=symbols('x y z')\n",
        "A=n.x**2*n.y+2*n.x*n.z-4\n",
        "delop=Del()\n",
        "display(delop(A))\n",
        "gradA=gradient(A)\n",
        "print(f'The gradient of {A} is')\n",
        "display(gradA)"
      ],
      "metadata": {
        "id": "dbrfHhFK2VgO",
        "outputId": "ebd6663a-839c-4135-ddbb-3ec9524627bc",
        "colab": {
          "base_uri": "https://localhost:8080/",
          "height": 98
        }
      },
      "id": "dbrfHhFK2VgO",
      "execution_count": 8,
      "outputs": [
        {
          "output_type": "display_data",
          "data": {
            "text/plain": [
              "(Derivative(n.x**2*n.y + 2*n.x*n.z - 4, n.x))*n.i + (Derivative(n.x**2*n.y + 2*n.x*n.z - 4, n.y))*n.j + (Derivative(n.x**2*n.y + 2*n.x*n.z - 4, n.z))*n.k"
            ],
            "text/latex": "$\\displaystyle \\left(\\frac{\\partial}{\\partial \\mathbf{{x}_{n}}} \\left(\\mathbf{{x}_{n}}^{2} \\mathbf{{y}_{n}} + 2 \\mathbf{{x}_{n}} \\mathbf{{z}_{n}} - 4\\right)\\right)\\mathbf{\\hat{i}_{n}} + \\left(\\frac{\\partial}{\\partial \\mathbf{{y}_{n}}} \\left(\\mathbf{{x}_{n}}^{2} \\mathbf{{y}_{n}} + 2 \\mathbf{{x}_{n}} \\mathbf{{z}_{n}} - 4\\right)\\right)\\mathbf{\\hat{j}_{n}} + \\left(\\frac{\\partial}{\\partial \\mathbf{{z}_{n}}} \\left(\\mathbf{{x}_{n}}^{2} \\mathbf{{y}_{n}} + 2 \\mathbf{{x}_{n}} \\mathbf{{z}_{n}} - 4\\right)\\right)\\mathbf{\\hat{k}_{n}}$"
          },
          "metadata": {}
        },
        {
          "output_type": "stream",
          "name": "stdout",
          "text": [
            "The gradient of n.x**2*n.y + 2*n.x*n.z - 4 is\n"
          ]
        },
        {
          "output_type": "display_data",
          "data": {
            "text/plain": [
              "(2*n.x*n.y + 2*n.z)*n.i + n.x**2*n.j + 2*n.x*n.k"
            ],
            "text/latex": "$\\displaystyle \\left(2 \\mathbf{{x}_{n}} \\mathbf{{y}_{n}} + 2 \\mathbf{{z}_{n}}\\right)\\mathbf{\\hat{i}_{n}} + \\left(\\mathbf{{x}_{n}}^{2}\\right)\\mathbf{\\hat{j}_{n}} + \\left(2 \\mathbf{{x}_{n}}\\right)\\mathbf{\\hat{k}_{n}}$"
          },
          "metadata": {}
        }
      ]
    },
    {
      "cell_type": "code",
      "source": [
        "from sympy import beta,gamma\n",
        "m=float(input('m:'))\n",
        "n=float(input('n:'))\n",
        "s=beta(m,n)\n",
        "t=gamma(m)\n",
        "print('The beta (',m,n,') is %3.3f '%s)\n",
        "print('The gamma (',n,') is %3.3f '%t)"
      ],
      "metadata": {
        "id": "QorBzX9d3JiB",
        "outputId": "d54e46e7-649a-4bf8-c026-c9a5f8a61da8",
        "colab": {
          "base_uri": "https://localhost:8080/"
        }
      },
      "id": "QorBzX9d3JiB",
      "execution_count": 7,
      "outputs": [
        {
          "output_type": "stream",
          "name": "stdout",
          "text": [
            "m:2.5\n",
            "n:3.5\n",
            "The beta ( 2.5 3.5 ) is 0.037 \n",
            "The gamma ( 3.5 ) is 1.329 \n"
          ]
        }
      ]
    },
    {
      "cell_type": "code",
      "source": [
        "import numpy as np\n",
        "A=np.array([2,1,5,4])\n",
        "B=np.array([3,4,7,8])\n",
        "output=np.dot(A,B)\n",
        "print('The inner product is :',output)\n",
        "if output==0:\n",
        "  print('The given vectors are orthogonal')\n",
        "else:\n",
        "  print('The given vectors are not orthogonal')"
      ],
      "metadata": {
        "id": "-5pB_u4p4PiF",
        "outputId": "abb4d2aa-f48d-463d-e5e1-8c1c3c3d1455",
        "colab": {
          "base_uri": "https://localhost:8080/"
        }
      },
      "id": "-5pB_u4p4PiF",
      "execution_count": 10,
      "outputs": [
        {
          "output_type": "stream",
          "name": "stdout",
          "text": [
            "The inner product is : 77\n",
            "The given vectors are not orthogonal\n"
          ]
        }
      ]
    },
    {
      "cell_type": "code",
      "source": [
        "from sympy import *\n",
        "x=Symbol('x')\n",
        "y=Symbol('y')\n",
        "z=Symbol('z')\n",
        "a=Symbol('a')\n",
        "b=Symbol('b')\n",
        "c=Symbol('c')\n",
        "w2=integrate(1,(z,0,c*(1-x/a-y/b)),(y,0,b*(1-x/a)),(x,0,a))\n",
        "display(w2)"
      ],
      "metadata": {
        "id": "54P5RIEh7cut",
        "outputId": "f47a10ec-c657-42ab-9ce6-a3baa358f815",
        "colab": {
          "base_uri": "https://localhost:8080/",
          "height": 52
        }
      },
      "id": "54P5RIEh7cut",
      "execution_count": 14,
      "outputs": [
        {
          "output_type": "display_data",
          "data": {
            "text/plain": [
              "a*b*c/6"
            ],
            "text/latex": "$\\displaystyle \\frac{a b c}{6}$"
          },
          "metadata": {}
        }
      ]
    },
    {
      "cell_type": "code",
      "source": [
        "from sympy import symbols\n",
        "from sympy.vector import*\n",
        "n=CoordSys3D('n')\n",
        "x,y,z=symbols('x,y,x')\n",
        "A=n.x**2*n.y*n.z*n.i+n.y**2*n.x*n.z*n.j+n.z**2*n.x*n.y*n.k\n",
        "delop=Del()\n",
        "divA=delop.dot(A)\n",
        "display(divA)\n",
        "print(f\"The divergence of {A} is:\")\n",
        "display(divergence(A))"
      ],
      "metadata": {
        "id": "e4i_6fxz8_mD",
        "outputId": "df8d78fe-bfab-4c11-a918-510eda280f9d",
        "colab": {
          "base_uri": "https://localhost:8080/",
          "height": 93
        }
      },
      "id": "e4i_6fxz8_mD",
      "execution_count": 15,
      "outputs": [
        {
          "output_type": "display_data",
          "data": {
            "text/plain": [
              "Derivative(n.x*n.y*n.z**2, n.z) + Derivative(n.x*n.y**2*n.z, n.y) + Derivative(n.x**2*n.y*n.z, n.x)"
            ],
            "text/latex": "$\\displaystyle \\frac{\\partial}{\\partial \\mathbf{{z}_{n}}} \\mathbf{{x}_{n}} \\mathbf{{y}_{n}} \\mathbf{{z}_{n}}^{2} + \\frac{\\partial}{\\partial \\mathbf{{y}_{n}}} \\mathbf{{x}_{n}} \\mathbf{{y}_{n}}^{2} \\mathbf{{z}_{n}} + \\frac{\\partial}{\\partial \\mathbf{{x}_{n}}} \\mathbf{{x}_{n}}^{2} \\mathbf{{y}_{n}} \\mathbf{{z}_{n}}$"
          },
          "metadata": {}
        },
        {
          "output_type": "stream",
          "name": "stdout",
          "text": [
            "The divergence of n.x**2*n.y*n.z*n.i + n.x*n.y**2*n.z*n.j + n.x*n.y*n.z**2*n.k is:\n"
          ]
        },
        {
          "output_type": "display_data",
          "data": {
            "text/plain": [
              "6*n.x*n.y*n.z"
            ],
            "text/latex": "$\\displaystyle 6 \\mathbf{{x}_{n}} \\mathbf{{y}_{n}} \\mathbf{{z}_{n}}$"
          },
          "metadata": {}
        }
      ]
    },
    {
      "cell_type": "code",
      "source": [
        "import numpy as np\n",
        "from sympy import *\n",
        "import matplotlib.pyplot as plt\n",
        "import math\n",
        "r=Symbol('r')\n",
        "t=Symbol('t')\n",
        "a=Symbol('a')\n",
        "I1=integrate(cos(t)*r**2,(r,0,a*(1+cos(t))),(t,-pi,pi))\n",
        "I2=integrate(r,(r,0,a*(1+cos(t))),(t,-pi,pi))\n",
        "I=I1/I2\n",
        "print(I)\n",
        "I=I.subs(a,5)\n",
        "plt.axes(projection='polar')\n",
        "a=5\n",
        "rad=np.arange(0,(2*np.pi),0.01)\n",
        "for i in rad:\n",
        "  r=a+(a*np.cos(i))\n",
        "  plt.polar(i,r,'g.')\n",
        "plt.plot(0,I,'r.')\n",
        "plt.show()"
      ],
      "metadata": {
        "id": "LaLn-ZZj_Fmb",
        "outputId": "8cab067d-eeb6-4c9e-e512-49d5c136d190",
        "colab": {
          "base_uri": "https://localhost:8080/",
          "height": 476
        }
      },
      "id": "LaLn-ZZj_Fmb",
      "execution_count": 18,
      "outputs": [
        {
          "output_type": "stream",
          "name": "stdout",
          "text": [
            "5*a/6\n"
          ]
        },
        {
          "output_type": "display_data",
          "data": {
            "text/plain": [
              "<Figure size 640x480 with 1 Axes>"
            ],
            "image/png": "[encoded data removed]"
          },
          "metadata": {}
        }
      ]
    },
    {
      "cell_type": "code",
      "source": [
        "from sympy import *\n",
        "x=Symbol('x')\n",
        "g=input('Enter the function:')\n",
        "f=lambdify(x,g)\n",
        "a=float(input('Enter A:'))\n",
        "b=float(input('Enter B:'))\n",
        "N=int(input('Enter the number of iterations:'))\n",
        "for i in range(1,N+1):\n",
        "  c=(a*f(b)-b*f(a))/(f(b)-f(a))\n",
        "  if((f(a)*f(c)<0)):\n",
        "    b=c\n",
        "  else:\n",
        "    a=c\n",
        "  print('Iteration %d \\t The root %0.3f \\t The function value: %0.3f \\t'%(i,c,f(c)))\n"
      ],
      "metadata": {
        "id": "djBlDrnwKI9d",
        "outputId": "5b3218a3-0d43-42b4-c7cf-da0d88611fd6",
        "colab": {
          "base_uri": "https://localhost:8080/"
        }
      },
      "id": "djBlDrnwKI9d",
      "execution_count": 25,
      "outputs": [
        {
          "output_type": "stream",
          "name": "stdout",
          "text": [
            "Enter the function:x**3-2*x-5\n",
            "Enter A:2\n",
            "Enter B:3\n",
            "Enter the number of iterations:5\n",
            "Iteration 1 \t The root 2.059 \t The function value: -0.391 \t\n",
            "Iteration 2 \t The root 2.081 \t The function value: -0.147 \t\n",
            "Iteration 3 \t The root 2.090 \t The function value: -0.055 \t\n",
            "Iteration 4 \t The root 2.093 \t The function value: -0.020 \t\n",
            "Iteration 5 \t The root 2.094 \t The function value: -0.007 \t\n"
          ]
        }
      ]
    },
    {
      "cell_type": "code",
      "source": [
        "x"
      ],
      "metadata": {
        "id": "0-fvp4kPMrtf"
      },
      "id": "0-fvp4kPMrtf",
      "execution_count": null,
      "outputs": []
    },
    {
      "cell_type": "code",
      "source": [],
      "metadata": {
        "id": "42aQnJwvNWEX"
      },
      "id": "42aQnJwvNWEX",
      "execution_count": null,
      "outputs": []
    }
  ],
  "metadata": {
    "kernelspec": {
      "display_name": "Python 3",
      "name": "python3"
    },
    "language_info": {
      "name": "python"
    },
    "required_libs": [],
    "colab": {
      "provenance": []
    }
  },
  "nbformat": 4,
  "nbformat_minor": 5
}